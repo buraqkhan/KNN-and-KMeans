{
 "cells": [
  {
   "cell_type": "code",
   "execution_count": 67,
   "metadata": {},
   "outputs": [],
   "source": [
    "import numpy as np\n",
    "import pandas as pd\n",
    "import matplotlib.pyplot as plt\n",
    "from csv import reader\n",
    "from statistics import mode\n",
    "import random"
   ]
  },
  {
   "cell_type": "markdown",
   "metadata": {},
   "source": [
    "## Data Reading"
   ]
  },
  {
   "cell_type": "code",
   "execution_count": 68,
   "metadata": {},
   "outputs": [],
   "source": [
    "headings = [\"Price\", \"Maintenance Cost\", \"Doors\", \"Capacity\", \"Luggage Space\", \"Safety\", \"Rating\"]\n",
    "data =  pd.read_csv(\"car.data\", ',', names=headings)\n",
    "data[data==\"5more\"] = 5\n",
    "data[data==\"more\"] = 6\n",
    "data[data==\"vhigh\"] = 4\n",
    "data[data==\"high\"] = 3\n",
    "data[data==\"med\"] = 2\n",
    "data[data==\"low\"] = 1\n",
    "data[data==\"small\"] = 1\n",
    "data[data==\"big\"] = 3\n",
    "for i in range(7):\n",
    "    data[data==str(i)] = i\n",
    "\n",
    "data = data.sample(frac = 1)\n",
    "training_data = data.iloc[:1300]\n",
    "test_data = data.iloc[1300:]\n"
   ]
  },
  {
   "cell_type": "markdown",
   "metadata": {},
   "source": [
    "## K Nearest Neighbours"
   ]
  },
  {
   "cell_type": "code",
   "execution_count": 69,
   "metadata": {},
   "outputs": [],
   "source": [
    "def getEuclideanDistances(data, testPoint):\n",
    "  return (np.sum((data - testPoint)**2,axis = 1))**0.5"
   ]
  },
  {
   "cell_type": "code",
   "execution_count": 70,
   "metadata": {},
   "outputs": [],
   "source": [
    "def KNN(test_point, k):\n",
    "    X = training_data.drop(\"Rating\", axis=1)\n",
    "    y = training_data[\"Rating\"]\n",
    "    y = y.values\n",
    "\n",
    "    neighbours_rating = []\n",
    "    distances =  getEuclideanDistances(X, test_point)\n",
    "    \n",
    "    neighbours = distances.argsort()[:k]\n",
    "    for id in neighbours:\n",
    "        neighbours_rating.append(y[id])\n",
    "    \n",
    "    #rating = max(neighbours_rating, key=neighbours_rating.count)\n",
    "    rating  = mode(neighbours_rating)\n",
    "    return rating\n"
   ]
  },
  {
   "cell_type": "code",
   "execution_count": 71,
   "metadata": {},
   "outputs": [
    {
     "data": {
      "text/plain": [
       "'vgood'"
      ]
     },
     "execution_count": 71,
     "metadata": {},
     "output_type": "execute_result"
    }
   ],
   "source": [
    "point = np.array([1,1,5,6,3,3])\n",
    "rating = KNN(point, 3)\n",
    "rating"
   ]
  },
  {
   "cell_type": "markdown",
   "metadata": {},
   "source": [
    "### Evaluation"
   ]
  },
  {
   "cell_type": "code",
   "execution_count": 72,
   "metadata": {},
   "outputs": [],
   "source": [
    "ratings = {\"unacc\": 0, \"acc\": 1, \"good\": 2, \"vgood\": 3}\n",
    "confusion_matrix = np.zeros((4,4))\n",
    "\n",
    "test_X = test_data.drop(\"Rating\", axis=1)\n",
    "test_y = test_data[\"Rating\"]\n",
    "for i in range(len(test_X)):\n",
    "    test_rating = KNN(test_X.iloc[i], 3)\n",
    "    real_rating = test_y.iloc[i]\n",
    "    confusion_matrix[ ratings[test_rating] ][ ratings[real_rating] ] += 1"
   ]
  },
  {
   "cell_type": "code",
   "execution_count": 73,
   "metadata": {},
   "outputs": [],
   "source": [
    "def precision(confusion_matrix):\n",
    "    # Unacceptable\n",
    "    unacc = confusion_matrix[0][0] / sum(confusion_matrix[0])\n",
    "\n",
    "    # Acceptable\n",
    "    acc = confusion_matrix[1][1] / sum(confusion_matrix[1])\n",
    "\n",
    "    # Good \n",
    "    good = confusion_matrix[2][2] / sum(confusion_matrix[2])\n",
    "\n",
    "    # Very Good\n",
    "    vgood = confusion_matrix[3][3] / sum(confusion_matrix[3])\n",
    "\n",
    "    return [unacc, acc, good, vgood]\n",
    "\n",
    "def recall(confusion_matrix):\n",
    "    u = a = g = v = 0\n",
    "    for i in range(4):\n",
    "        u += confusion_matrix[i][0]\n",
    "        a += confusion_matrix[i][1]\n",
    "        g += confusion_matrix[i][2]\n",
    "        v += confusion_matrix[i][3]\n",
    "\n",
    "    # Unacceptable\n",
    "    unacc = confusion_matrix[0][0] / u\n",
    "\n",
    "    # Acceptable\n",
    "    acc = confusion_matrix[1][1] / a\n",
    "\n",
    "    # Good \n",
    "    good = confusion_matrix[2][2] / g\n",
    "\n",
    "    # Very Good\n",
    "    vgood = confusion_matrix[3][3] / v\n",
    "    \n",
    "    return [unacc, acc, good, vgood]\n",
    "\n",
    "def F1(precision, recall):\n",
    "    unacc = 2 * (precision[0] * recall[0]) / (precision[0] + recall[0])\n",
    "\n",
    "    acc = 2 * (precision[1] * recall[1]) / (precision[1] + recall[1])\n",
    "\n",
    "    good = 2 * (precision[2] * recall[2]) / (precision[2] + recall[2])\n",
    "\n",
    "    vgood = 2 * (precision[3] * recall[3]) / (precision[3] + recall[3])\n",
    "\n",
    "    return [unacc, acc, good, vgood]\n",
    "\n",
    "def macroF1(f1_scores):\n",
    "    return sum(f1_scores) / 4\n",
    "\n",
    "def macroPrecision(precision):\n",
    "    return sum(precision) / 4\n",
    "\n",
    "def macroRecall(recall):\n",
    "    return sum(recall) / 4\n",
    "\n",
    "def metrics(cofusion_matrix):\n",
    "    tp = fp = fn = 0\n",
    "    for i in range(4):\n",
    "        for j in range(4):\n",
    "            if i == j:\n",
    "                tp += cofusion_matrix[i][j]\n",
    "            else:\n",
    "                fp += confusion_matrix[i][j]\n",
    "                fn += confusion_matrix[j][i]\n",
    "    return tp, fp, fn\n",
    "\n",
    "def microPrecision(tp, fp, fn):\n",
    "    return tp / (tp + fp)\n",
    "\n",
    "def microRecall(tp, fp, fn):\n",
    "    return tp / (tp + fn)\n",
    "\n",
    "def microF1(micro_prec, micro_recall):\n",
    "    return 2 * (micro_prec * micro_recall) / (micro_prec + micro_recall)\n"
   ]
  },
  {
   "cell_type": "code",
   "execution_count": 74,
   "metadata": {},
   "outputs": [
    {
     "name": "stdout",
     "output_type": "stream",
     "text": [
      "Class: Unacceptable\n",
      "Precision:  96.33333333333334\n",
      "Recall:  97.96610169491525\n",
      "F1:  0.9714285714285715\n",
      "\n",
      "Class: Acceptable\n",
      "Precision:  86.73469387755102\n",
      "Recall:  85.0\n",
      "F1:  0.8585858585858585\n",
      "\n",
      "Class: Good\n",
      "Precision:  62.5\n",
      "Recall:  52.63157894736842\n",
      "F1:  0.5714285714285714\n",
      "\n",
      "Class: Very Good\n",
      "Precision:  85.71428571428571\n",
      "Recall:  85.71428571428571\n",
      "F1:  0.8571428571428571\n",
      "\n",
      "Macro Precision:  82.82057823129252\n",
      "Macro Recall:  80.32799158914234\n",
      "Macro F1:  0.8146464646464647\n",
      "\n",
      "Micro Precision:  92.5233644859813\n",
      "Micro Recall:  92.5233644859813\n",
      "Micro F1:  0.9252336448598131\n",
      "Average:  92.5233644859813\n"
     ]
    }
   ],
   "source": [
    "prec = precision(confusion_matrix)\n",
    "rec = recall(confusion_matrix)\n",
    "f1 = F1(prec, rec)\n",
    "tp, fp, fn = metrics(confusion_matrix)\n",
    "macro_f1 = macroF1(f1)\n",
    "macro_prec = macroPrecision(prec)\n",
    "macro_recall = macroRecall(rec)\n",
    "micro_prec = microPrecision(tp, fp, fn)\n",
    "micro_recall = microRecall(tp, fp, fn)\n",
    "micro_f1 = microF1(micro_prec, micro_recall)\n",
    "\n",
    "print(\"Class: Unacceptable\")\n",
    "print(\"Precision: \", prec[0]*100)\n",
    "print(\"Recall: \", rec[0]*100)\n",
    "print(\"F1: \", f1[0])\n",
    "print()\n",
    "print(\"Class: Acceptable\")\n",
    "print(\"Precision: \", prec[1]*100)\n",
    "print(\"Recall: \", rec[1]*100)\n",
    "print(\"F1: \", f1[1])\n",
    "print()\n",
    "print(\"Class: Good\")\n",
    "print(\"Precision: \", prec[2]*100)\n",
    "print(\"Recall: \", rec[2]*100)\n",
    "print(\"F1: \", f1[2])\n",
    "print()\n",
    "print(\"Class: Very Good\")\n",
    "print(\"Precision: \", prec[3]*100)\n",
    "print(\"Recall: \", rec[3]*100)\n",
    "print(\"F1: \", f1[3])\n",
    "print()\n",
    "print(\"Macro Precision: \", macro_prec*100)\n",
    "print(\"Macro Recall: \", macro_recall*100)\n",
    "print(\"Macro F1: \", macro_f1)\n",
    "print()\n",
    "print(\"Micro Precision: \", micro_prec*100)\n",
    "print(\"Micro Recall: \", micro_recall*100)\n",
    "print(\"Micro F1: \", micro_f1)\n",
    "print(\"Average: \", micro_f1*100)\n"
   ]
  },
  {
   "cell_type": "code",
   "execution_count": 75,
   "metadata": {},
   "outputs": [
    {
     "name": "stdout",
     "output_type": "stream",
     "text": [
      "[[289.   9.   2.   0.]\n",
      " [  6.  85.   5.   2.]\n",
      " [  0.   6.  10.   0.]\n",
      " [  0.   0.   2.  12.]]\n"
     ]
    }
   ],
   "source": [
    "print(confusion_matrix)"
   ]
  },
  {
   "cell_type": "markdown",
   "metadata": {},
   "source": [
    "## K Means Clustering"
   ]
  },
  {
   "cell_type": "code",
   "execution_count": 76,
   "metadata": {},
   "outputs": [
    {
     "data": {
      "text/html": [
       "<div>\n",
       "<style scoped>\n",
       "    .dataframe tbody tr th:only-of-type {\n",
       "        vertical-align: middle;\n",
       "    }\n",
       "\n",
       "    .dataframe tbody tr th {\n",
       "        vertical-align: top;\n",
       "    }\n",
       "\n",
       "    .dataframe thead th {\n",
       "        text-align: right;\n",
       "    }\n",
       "</style>\n",
       "<table border=\"1\" class=\"dataframe\">\n",
       "  <thead>\n",
       "    <tr style=\"text-align: right;\">\n",
       "      <th></th>\n",
       "      <th>h1</th>\n",
       "      <th>h2</th>\n",
       "      <th>h3</th>\n",
       "      <th>h4</th>\n",
       "      <th>h5</th>\n",
       "      <th>h6</th>\n",
       "      <th>h7</th>\n",
       "      <th>h8</th>\n",
       "      <th>h9</th>\n",
       "      <th>h10</th>\n",
       "      <th>h11</th>\n",
       "    </tr>\n",
       "  </thead>\n",
       "  <tbody>\n",
       "    <tr>\n",
       "      <th>1</th>\n",
       "      <td>32.0</td>\n",
       "      <td>38.5</td>\n",
       "      <td>70.3</td>\n",
       "      <td>18.0</td>\n",
       "      <td>24.7</td>\n",
       "      <td>3.9</td>\n",
       "      <td>11.17</td>\n",
       "      <td>4.80</td>\n",
       "      <td>74.0</td>\n",
       "      <td>15.6</td>\n",
       "      <td>76.5</td>\n",
       "    </tr>\n",
       "    <tr>\n",
       "      <th>2</th>\n",
       "      <td>32.0</td>\n",
       "      <td>46.9</td>\n",
       "      <td>74.7</td>\n",
       "      <td>36.2</td>\n",
       "      <td>52.6</td>\n",
       "      <td>6.1</td>\n",
       "      <td>8.84</td>\n",
       "      <td>5.20</td>\n",
       "      <td>86.0</td>\n",
       "      <td>33.2</td>\n",
       "      <td>79.3</td>\n",
       "    </tr>\n",
       "    <tr>\n",
       "      <th>3</th>\n",
       "      <td>32.0</td>\n",
       "      <td>43.2</td>\n",
       "      <td>52.0</td>\n",
       "      <td>30.6</td>\n",
       "      <td>22.6</td>\n",
       "      <td>18.9</td>\n",
       "      <td>7.33</td>\n",
       "      <td>4.74</td>\n",
       "      <td>80.0</td>\n",
       "      <td>33.8</td>\n",
       "      <td>75.7</td>\n",
       "    </tr>\n",
       "    <tr>\n",
       "      <th>4</th>\n",
       "      <td>32.0</td>\n",
       "      <td>39.2</td>\n",
       "      <td>74.1</td>\n",
       "      <td>32.6</td>\n",
       "      <td>24.8</td>\n",
       "      <td>9.6</td>\n",
       "      <td>9.15</td>\n",
       "      <td>4.32</td>\n",
       "      <td>76.0</td>\n",
       "      <td>29.9</td>\n",
       "      <td>68.7</td>\n",
       "    </tr>\n",
       "    <tr>\n",
       "      <th>5</th>\n",
       "      <td>32.0</td>\n",
       "      <td>41.6</td>\n",
       "      <td>43.3</td>\n",
       "      <td>18.5</td>\n",
       "      <td>19.7</td>\n",
       "      <td>12.3</td>\n",
       "      <td>9.92</td>\n",
       "      <td>6.05</td>\n",
       "      <td>111.0</td>\n",
       "      <td>91.0</td>\n",
       "      <td>74.0</td>\n",
       "    </tr>\n",
       "    <tr>\n",
       "      <th>...</th>\n",
       "      <td>...</td>\n",
       "      <td>...</td>\n",
       "      <td>...</td>\n",
       "      <td>...</td>\n",
       "      <td>...</td>\n",
       "      <td>...</td>\n",
       "      <td>...</td>\n",
       "      <td>...</td>\n",
       "      <td>...</td>\n",
       "      <td>...</td>\n",
       "      <td>...</td>\n",
       "    </tr>\n",
       "    <tr>\n",
       "      <th>611</th>\n",
       "      <td>64.0</td>\n",
       "      <td>24.0</td>\n",
       "      <td>102.8</td>\n",
       "      <td>2.9</td>\n",
       "      <td>44.4</td>\n",
       "      <td>20.0</td>\n",
       "      <td>1.54</td>\n",
       "      <td>3.02</td>\n",
       "      <td>63.0</td>\n",
       "      <td>35.9</td>\n",
       "      <td>71.3</td>\n",
       "    </tr>\n",
       "    <tr>\n",
       "      <th>612</th>\n",
       "      <td>64.0</td>\n",
       "      <td>29.0</td>\n",
       "      <td>87.3</td>\n",
       "      <td>3.5</td>\n",
       "      <td>99.0</td>\n",
       "      <td>48.0</td>\n",
       "      <td>1.66</td>\n",
       "      <td>3.63</td>\n",
       "      <td>66.7</td>\n",
       "      <td>64.2</td>\n",
       "      <td>82.0</td>\n",
       "    </tr>\n",
       "    <tr>\n",
       "      <th>613</th>\n",
       "      <td>46.0</td>\n",
       "      <td>33.0</td>\n",
       "      <td>NaN</td>\n",
       "      <td>39.0</td>\n",
       "      <td>62.0</td>\n",
       "      <td>20.0</td>\n",
       "      <td>3.56</td>\n",
       "      <td>4.20</td>\n",
       "      <td>52.0</td>\n",
       "      <td>50.0</td>\n",
       "      <td>71.0</td>\n",
       "    </tr>\n",
       "    <tr>\n",
       "      <th>614</th>\n",
       "      <td>59.0</td>\n",
       "      <td>36.0</td>\n",
       "      <td>NaN</td>\n",
       "      <td>100.0</td>\n",
       "      <td>80.0</td>\n",
       "      <td>12.0</td>\n",
       "      <td>9.07</td>\n",
       "      <td>5.30</td>\n",
       "      <td>67.0</td>\n",
       "      <td>34.0</td>\n",
       "      <td>68.0</td>\n",
       "    </tr>\n",
       "    <tr>\n",
       "      <th>615</th>\n",
       "      <td>NaN</td>\n",
       "      <td>NaN</td>\n",
       "      <td>NaN</td>\n",
       "      <td>NaN</td>\n",
       "      <td>NaN</td>\n",
       "      <td>NaN</td>\n",
       "      <td>NaN</td>\n",
       "      <td>NaN</td>\n",
       "      <td>NaN</td>\n",
       "      <td>NaN</td>\n",
       "      <td>NaN</td>\n",
       "    </tr>\n",
       "  </tbody>\n",
       "</table>\n",
       "<p>615 rows × 11 columns</p>\n",
       "</div>"
      ],
      "text/plain": [
       "       h1    h2     h3     h4    h5    h6     h7    h8     h9   h10   h11\n",
       "1    32.0  38.5   70.3   18.0  24.7   3.9  11.17  4.80   74.0  15.6  76.5\n",
       "2    32.0  46.9   74.7   36.2  52.6   6.1   8.84  5.20   86.0  33.2  79.3\n",
       "3    32.0  43.2   52.0   30.6  22.6  18.9   7.33  4.74   80.0  33.8  75.7\n",
       "4    32.0  39.2   74.1   32.6  24.8   9.6   9.15  4.32   76.0  29.9  68.7\n",
       "5    32.0  41.6   43.3   18.5  19.7  12.3   9.92  6.05  111.0  91.0  74.0\n",
       "..    ...   ...    ...    ...   ...   ...    ...   ...    ...   ...   ...\n",
       "611  64.0  24.0  102.8    2.9  44.4  20.0   1.54  3.02   63.0  35.9  71.3\n",
       "612  64.0  29.0   87.3    3.5  99.0  48.0   1.66  3.63   66.7  64.2  82.0\n",
       "613  46.0  33.0    NaN   39.0  62.0  20.0   3.56  4.20   52.0  50.0  71.0\n",
       "614  59.0  36.0    NaN  100.0  80.0  12.0   9.07  5.30   67.0  34.0  68.0\n",
       "615   NaN   NaN    NaN    NaN   NaN   NaN    NaN   NaN    NaN   NaN   NaN\n",
       "\n",
       "[615 rows x 11 columns]"
      ]
     },
     "execution_count": 76,
     "metadata": {},
     "output_type": "execute_result"
    }
   ],
   "source": [
    "new_data = pd.read_csv(\"hcvdat0.csv\", \",\", names = [\"Class\", \"h1\", \"h2\", \"h3\", \"h4\", \"h5\", \"h6\", \"h7\", \"h8\", \"h9\", \"h10\", \"h11\"])\n",
    "new_data\n",
    "X = new_data.drop(\"Class\", axis=1)\n",
    "y = new_data[\"Class\"]\n",
    "y = y.values\n",
    "X"
   ]
  },
  {
   "cell_type": "code",
   "execution_count": 77,
   "metadata": {},
   "outputs": [],
   "source": [
    "def expectation(k, centroids):\n",
    "    points = np.zeros(X.shape[0])\n",
    "\n",
    "    for i in range(len(points)):\n",
    "        dist =  getEuclideanDistances(np.array(X.iloc[i]) , centroids)\n",
    "        #print(\"Distance:\" ,dist)\n",
    "        min_dist = np.argmin(dist)\n",
    "        points[i] = min_dist\n",
    "\n",
    "    return points\n",
    "    \n",
    "\n",
    "def maximisation(k, points):\n",
    "    m, n = X.shape\n",
    "    centroids = np.zeros((k, n))\n",
    "\n",
    "    for i in range(len(centroids)):\n",
    "        centroids[i] = np.mean(X[points == i], axis = 0)\n",
    "\n",
    "    return centroids\n"
   ]
  },
  {
   "cell_type": "code",
   "execution_count": 78,
   "metadata": {},
   "outputs": [],
   "source": [
    "def KMeans(k, init_centroids):\n",
    "    m, n = X.shape\n",
    "    points = np.zeros(m)\n",
    "    centroids = init_centroids\n",
    "\n",
    "    for i in range(100):\n",
    "        points = expectation(k, centroids)\n",
    "        centroids = maximisation(k, points)\n",
    "\n",
    "    return points, centroids"
   ]
  },
  {
   "cell_type": "code",
   "execution_count": 79,
   "metadata": {},
   "outputs": [],
   "source": [
    "X = X.sample(frac = 1)\n",
    "init_centroids = np.array([X.iloc[100], X.iloc[600], X.iloc[500]])\n",
    "#print(X.iloc[100], X.iloc[600], X.iloc[1500])\n",
    "points, centroids = KMeans(3, init_centroids) "
   ]
  },
  {
   "cell_type": "code",
   "execution_count": 84,
   "metadata": {},
   "outputs": [
    {
     "data": {
      "text/plain": [
       "array([[ 48.7       ,  41.26565657,  67.48658537,  47.15858586,\n",
       "         68.698     ,  22.17      ,   7.8573    ,   5.18466667,\n",
       "         78.184     ,  84.876     ,  73.01515152],\n",
       "       [ 47.04780876,  41.88047809,  66.37868526,  24.38645418,\n",
       "         26.23884462,   9.00756972,   8.3202988 ,   5.41703187,\n",
       "         78.04960159,  23.85338645,  71.96294821],\n",
       "       [ 53.        ,  33.91666667, 154.75      ,  45.86666667,\n",
       "        110.81666667,  21.89166667,   5.95666667,   4.875     ,\n",
       "        240.55833333, 319.9       ,  67.68333333]])"
      ]
     },
     "execution_count": 84,
     "metadata": {},
     "output_type": "execute_result"
    }
   ],
   "source": [
    "centroids"
   ]
  },
  {
   "cell_type": "code",
   "execution_count": 80,
   "metadata": {},
   "outputs": [],
   "source": [
    "k_Meancluster1 = X.iloc[np.where(points == 0)[0],:]\n",
    "k_Meancluster2 = X.iloc[np.where(points == 1)[0],:]\n",
    "k_Meancluster3 = X.iloc[np.where(points == 2)[0],:]\n",
    "clusters = [k_Meancluster1, k_Meancluster2, k_Meancluster3]"
   ]
  },
  {
   "cell_type": "code",
   "execution_count": 81,
   "metadata": {},
   "outputs": [
    {
     "data": {
      "text/plain": [
       "<matplotlib.legend.Legend at 0x7f15e456a6a0>"
      ]
     },
     "execution_count": 81,
     "metadata": {},
     "output_type": "execute_result"
    },
    {
     "data": {
      "image/png": "[encoded data removed]",
      "text/plain": [
       "<Figure size 864x576 with 1 Axes>"
      ]
     },
     "metadata": {
      "needs_background": "light"
     },
     "output_type": "display_data"
    }
   ],
   "source": [
    "fig, ax = plt.subplots(figsize=(12,8))\n",
    "ax.scatter(k_Meancluster1.iloc[:,0], k_Meancluster1.iloc[:,1], s=30, color='r', label='Cluster 1')\n",
    "ax.scatter(k_Meancluster2.iloc[:,0], k_Meancluster2.iloc[:,1], s=30, color='g', label='Cluster 2')\n",
    "ax.scatter(k_Meancluster3.iloc[:,0], k_Meancluster3.iloc[:,1], s=30, color='b', label='Cluster 3')\n",
    "#ax.scatter(k_Meancluster4.iloc[:,0], k_Meancluster4.iloc[:,1], s=30, color='black', label='Cluster 4')\n",
    "#ax.scatter(k_Meancluster5.iloc[:,0], k_Meancluster5.iloc[:,1], s=30, color='yellow', label='Cluster 5')\n",
    "ax.legend()"
   ]
  },
  {
   "cell_type": "code",
   "execution_count": 86,
   "metadata": {},
   "outputs": [],
   "source": [
    "def DBIndex(clusters, centroids, k):\n",
    "    cluster_scatter = []\n",
    "    dbi = []\n",
    "\n",
    "    for i in range(k):\n",
    "        e_dist = pow(abs(clusters[i] - centroids[i]), 2)\n",
    "        e_distances  =  np.sum((np.sum(e_dist, axis = 1)) ** 0.5)  \n",
    "        scatter = (1 / len(clusters[i])) * e_distances\n",
    "        cluster_scatter.append(scatter)\n",
    "    \n",
    "    for i in range(k):\n",
    "        cluster_measure = []\n",
    "        for j in range(k):\n",
    "            if i != j:\n",
    "                cluster_measure.append((cluster_scatter[i] + cluster_scatter[j]) / ((np.sum( (centroids[i] - centroids[j]) **2) ) **0.5))\n",
    "        dbi.append(max(cluster_measure))\n",
    "\n",
    "    return np.sum(dbi) / k"
   ]
  },
  {
   "cell_type": "code",
   "execution_count": 88,
   "metadata": {},
   "outputs": [
    {
     "name": "stdout",
     "output_type": "stream",
     "text": [
      "DBIndex for k = 3:  1.4349972196697054\n"
     ]
    }
   ],
   "source": [
    "print(\"DBIndex for k = 3: \", DBIndex(clusters, centroids, 3))"
   ]
  }
 ],
 "metadata": {
  "interpreter": {
   "hash": "31f2aee4e71d21fbe5cf8b01ff0e069b9275f58929596ceb00d14d90e3e16cd6"
  },
  "kernelspec": {
   "display_name": "Python 3.8.5 64-bit",
   "name": "python3"
  },
  "language_info": {
   "codemirror_mode": {
    "name": "ipython",
    "version": 3
   },
   "file_extension": ".py",
   "mimetype": "text/x-python",
   "name": "python",
   "nbconvert_exporter": "python",
   "pygments_lexer": "ipython3",
   "version": "3.8.5"
  },
  "orig_nbformat": 4
 },
 "nbformat": 4,
 "nbformat_minor": 2
}